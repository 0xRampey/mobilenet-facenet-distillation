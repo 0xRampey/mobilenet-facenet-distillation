{
 "cells": [
  {
   "cell_type": "markdown",
   "metadata": {},
   "source": [
    "## First, I'll load the required data and setup keras settings"
   ]
  },
  {
   "cell_type": "code",
   "execution_count": 2,
   "metadata": {},
   "outputs": [
    {
     "name": "stdout",
     "output_type": "stream",
     "text": [
      "The autoreload extension is already loaded. To reload it, use:\n",
      "  %reload_ext autoreload\n"
     ]
    }
   ],
   "source": [
    "%load_ext autoreload\n",
    "%autoreload 2"
   ]
  },
  {
   "cell_type": "code",
   "execution_count": 2,
   "metadata": {},
   "outputs": [
    {
     "name": "stderr",
     "output_type": "stream",
     "text": [
      "Using TensorFlow backend.\n"
     ]
    }
   ],
   "source": [
    "import numpy as np\n",
    "# use non standard flow_from_directory\n",
    "from utils.image_preprocessing_ver2 import ImageDataGenerator\n",
    "# it outputs y_batch that contains embeddings\n",
    "\n",
    "from utils.mobilenet import get_mobilenet\n",
    "import keras\n",
    "from keras.applications.mobilenet import MobileNet\n",
    "from keras.callbacks import ReduceLROnPlateau, EarlyStopping\n",
    "from keras.models import Model\n",
    "from keras import optimizers\n",
    "from keras import regularizers\n",
    "from keras import backend as K\n",
    "from keras.layers import Lambda, concatenate, Activation\n",
    "from keras.losses import categorical_crossentropy as logloss\n",
    "from keras.metrics import categorical_accuracy, top_k_categorical_accuracy\n",
    "import matplotlib.pyplot as plt\n",
    "from keras.layers import Activation, GlobalAveragePooling2D, Dropout, Dense, Input\n",
    "%matplotlib inline"
   ]
  },
  {
   "cell_type": "code",
   "execution_count": 3,
   "metadata": {},
   "outputs": [],
   "source": [
    "logit_dir = 'data/face_emb_logits/'"
   ]
  },
  {
   "cell_type": "code",
   "execution_count": 4,
   "metadata": {},
   "outputs": [
    {
     "name": "stdout",
     "output_type": "stream",
     "text": [
      "12020\n"
     ]
    }
   ],
   "source": [
    "train_logits = np.load(logit_dir + 'train_set.npy')[()]\n",
    "val_logits = np.load(logit_dir + 'test_set.npy')[()]\n",
    "print(len(train_logits))"
   ]
  },
  {
   "cell_type": "code",
   "execution_count": 5,
   "metadata": {},
   "outputs": [],
   "source": [
    "data_dir = \"/home/prudhvi/Desktop/Datasets/lfw/lfw_mtcnn_160_split/\""
   ]
  },
  {
   "cell_type": "code",
   "execution_count": 6,
   "metadata": {},
   "outputs": [],
   "source": [
    "def fixed_image_stand(image):\n",
    "    return (tf.cast(image, tf.float32) - 127.5)/128"
   ]
  },
  {
   "cell_type": "code",
   "execution_count": 7,
   "metadata": {},
   "outputs": [
    {
     "name": "stdout",
     "output_type": "stream",
     "text": [
      "Found 12020 images belonging to 1 classes.\n",
      "Found 1213 images belonging to 1 classes.\n"
     ]
    }
   ],
   "source": [
    "train_generator = ImageDataGenerator(\n",
    "    data_format='channels_last',\n",
    "    preprocessing_function = fixed_image_stand\n",
    ")\n",
    "\n",
    "test_generator = ImageDataGenerator(\n",
    "    data_format='channels_last',\n",
    "    preprocessing_function = fixed_image_stand\n",
    ")\n",
    "\n",
    "# note: i'm also passing dicts of logits\n",
    "train_generator = train_generator.flow_from_directory(\n",
    "    data_dir + 'train/', train_logits,\n",
    "    target_size=(160, 160),\n",
    "    batch_size=64,\n",
    "    class_mode = 'embedding',\n",
    ")\n",
    "\n",
    "val_generator = test_generator.flow_from_directory(\n",
    "    data_dir + 'test', val_logits,\n",
    "    target_size=(160, 160),\n",
    "    batch_size=64,\n",
    "    class_mode = 'embedding',\n",
    ")"
   ]
  },
  {
   "cell_type": "markdown",
   "metadata": {},
   "source": [
    "## Create your Mobilenet model"
   ]
  },
  {
   "cell_type": "code",
   "execution_count": 12,
   "metadata": {},
   "outputs": [
    {
     "name": "stdout",
     "output_type": "stream",
     "text": [
      "_________________________________________________________________\n",
      "Layer (type)                 Output Shape              Param #   \n",
      "=================================================================\n",
      "input_2 (InputLayer)         (None, 160, 160, 3)       0         \n",
      "_________________________________________________________________\n",
      "conv1_pad (ZeroPadding2D)    (None, 162, 162, 3)       0         \n",
      "_________________________________________________________________\n",
      "conv1 (Conv2D)               (None, 80, 80, 32)        864       \n",
      "_________________________________________________________________\n",
      "conv1_bn (BatchNormalization (None, 80, 80, 32)        128       \n",
      "_________________________________________________________________\n",
      "conv1_relu (Activation)      (None, 80, 80, 32)        0         \n",
      "_________________________________________________________________\n",
      "conv_pad_1 (ZeroPadding2D)   (None, 82, 82, 32)        0         \n",
      "_________________________________________________________________\n",
      "conv_dw_1 (DepthwiseConv2D)  (None, 80, 80, 32)        288       \n",
      "_________________________________________________________________\n",
      "conv_dw_1_bn (BatchNormaliza (None, 80, 80, 32)        128       \n",
      "_________________________________________________________________\n",
      "conv_dw_1_relu (Activation)  (None, 80, 80, 32)        0         \n",
      "_________________________________________________________________\n",
      "conv_pw_1 (Conv2D)           (None, 80, 80, 64)        2048      \n",
      "_________________________________________________________________\n",
      "conv_pw_1_bn (BatchNormaliza (None, 80, 80, 64)        256       \n",
      "_________________________________________________________________\n",
      "conv_pw_1_relu (Activation)  (None, 80, 80, 64)        0         \n",
      "_________________________________________________________________\n",
      "conv_pad_2 (ZeroPadding2D)   (None, 82, 82, 64)        0         \n",
      "_________________________________________________________________\n",
      "conv_dw_2 (DepthwiseConv2D)  (None, 40, 40, 64)        576       \n",
      "_________________________________________________________________\n",
      "conv_dw_2_bn (BatchNormaliza (None, 40, 40, 64)        256       \n",
      "_________________________________________________________________\n",
      "conv_dw_2_relu (Activation)  (None, 40, 40, 64)        0         \n",
      "_________________________________________________________________\n",
      "conv_pw_2 (Conv2D)           (None, 40, 40, 128)       8192      \n",
      "_________________________________________________________________\n",
      "conv_pw_2_bn (BatchNormaliza (None, 40, 40, 128)       512       \n",
      "_________________________________________________________________\n",
      "conv_pw_2_relu (Activation)  (None, 40, 40, 128)       0         \n",
      "_________________________________________________________________\n",
      "conv_pad_3 (ZeroPadding2D)   (None, 42, 42, 128)       0         \n",
      "_________________________________________________________________\n",
      "conv_dw_3 (DepthwiseConv2D)  (None, 40, 40, 128)       1152      \n",
      "_________________________________________________________________\n",
      "conv_dw_3_bn (BatchNormaliza (None, 40, 40, 128)       512       \n",
      "_________________________________________________________________\n",
      "conv_dw_3_relu (Activation)  (None, 40, 40, 128)       0         \n",
      "_________________________________________________________________\n",
      "conv_pw_3 (Conv2D)           (None, 40, 40, 128)       16384     \n",
      "_________________________________________________________________\n",
      "conv_pw_3_bn (BatchNormaliza (None, 40, 40, 128)       512       \n",
      "_________________________________________________________________\n",
      "conv_pw_3_relu (Activation)  (None, 40, 40, 128)       0         \n",
      "_________________________________________________________________\n",
      "conv_pad_4 (ZeroPadding2D)   (None, 42, 42, 128)       0         \n",
      "_________________________________________________________________\n",
      "conv_dw_4 (DepthwiseConv2D)  (None, 20, 20, 128)       1152      \n",
      "_________________________________________________________________\n",
      "conv_dw_4_bn (BatchNormaliza (None, 20, 20, 128)       512       \n",
      "_________________________________________________________________\n",
      "conv_dw_4_relu (Activation)  (None, 20, 20, 128)       0         \n",
      "_________________________________________________________________\n",
      "conv_pw_4 (Conv2D)           (None, 20, 20, 256)       32768     \n",
      "_________________________________________________________________\n",
      "conv_pw_4_bn (BatchNormaliza (None, 20, 20, 256)       1024      \n",
      "_________________________________________________________________\n",
      "conv_pw_4_relu (Activation)  (None, 20, 20, 256)       0         \n",
      "_________________________________________________________________\n",
      "conv_pad_5 (ZeroPadding2D)   (None, 22, 22, 256)       0         \n",
      "_________________________________________________________________\n",
      "conv_dw_5 (DepthwiseConv2D)  (None, 20, 20, 256)       2304      \n",
      "_________________________________________________________________\n",
      "conv_dw_5_bn (BatchNormaliza (None, 20, 20, 256)       1024      \n",
      "_________________________________________________________________\n",
      "conv_dw_5_relu (Activation)  (None, 20, 20, 256)       0         \n",
      "_________________________________________________________________\n",
      "conv_pw_5 (Conv2D)           (None, 20, 20, 256)       65536     \n",
      "_________________________________________________________________\n",
      "conv_pw_5_bn (BatchNormaliza (None, 20, 20, 256)       1024      \n",
      "_________________________________________________________________\n",
      "conv_pw_5_relu (Activation)  (None, 20, 20, 256)       0         \n",
      "_________________________________________________________________\n",
      "conv_pad_6 (ZeroPadding2D)   (None, 22, 22, 256)       0         \n",
      "_________________________________________________________________\n",
      "conv_dw_6 (DepthwiseConv2D)  (None, 10, 10, 256)       2304      \n",
      "_________________________________________________________________\n",
      "conv_dw_6_bn (BatchNormaliza (None, 10, 10, 256)       1024      \n",
      "_________________________________________________________________\n",
      "conv_dw_6_relu (Activation)  (None, 10, 10, 256)       0         \n",
      "_________________________________________________________________\n",
      "conv_pw_6 (Conv2D)           (None, 10, 10, 512)       131072    \n",
      "_________________________________________________________________\n",
      "conv_pw_6_bn (BatchNormaliza (None, 10, 10, 512)       2048      \n",
      "_________________________________________________________________\n",
      "conv_pw_6_relu (Activation)  (None, 10, 10, 512)       0         \n",
      "_________________________________________________________________\n",
      "conv_pad_7 (ZeroPadding2D)   (None, 12, 12, 512)       0         \n",
      "_________________________________________________________________\n",
      "conv_dw_7 (DepthwiseConv2D)  (None, 10, 10, 512)       4608      \n",
      "_________________________________________________________________\n",
      "conv_dw_7_bn (BatchNormaliza (None, 10, 10, 512)       2048      \n",
      "_________________________________________________________________\n",
      "conv_dw_7_relu (Activation)  (None, 10, 10, 512)       0         \n",
      "_________________________________________________________________\n",
      "conv_pw_7 (Conv2D)           (None, 10, 10, 512)       262144    \n",
      "_________________________________________________________________\n",
      "conv_pw_7_bn (BatchNormaliza (None, 10, 10, 512)       2048      \n",
      "_________________________________________________________________\n",
      "conv_pw_7_relu (Activation)  (None, 10, 10, 512)       0         \n",
      "_________________________________________________________________\n",
      "conv_pad_8 (ZeroPadding2D)   (None, 12, 12, 512)       0         \n",
      "_________________________________________________________________\n",
      "conv_dw_8 (DepthwiseConv2D)  (None, 10, 10, 512)       4608      \n",
      "_________________________________________________________________\n",
      "conv_dw_8_bn (BatchNormaliza (None, 10, 10, 512)       2048      \n",
      "_________________________________________________________________\n",
      "conv_dw_8_relu (Activation)  (None, 10, 10, 512)       0         \n",
      "_________________________________________________________________\n",
      "conv_pw_8 (Conv2D)           (None, 10, 10, 512)       262144    \n",
      "_________________________________________________________________\n",
      "conv_pw_8_bn (BatchNormaliza (None, 10, 10, 512)       2048      \n",
      "_________________________________________________________________\n",
      "conv_pw_8_relu (Activation)  (None, 10, 10, 512)       0         \n",
      "_________________________________________________________________\n",
      "conv_pad_9 (ZeroPadding2D)   (None, 12, 12, 512)       0         \n",
      "_________________________________________________________________\n",
      "conv_dw_9 (DepthwiseConv2D)  (None, 10, 10, 512)       4608      \n",
      "_________________________________________________________________\n",
      "conv_dw_9_bn (BatchNormaliza (None, 10, 10, 512)       2048      \n",
      "_________________________________________________________________\n",
      "conv_dw_9_relu (Activation)  (None, 10, 10, 512)       0         \n",
      "_________________________________________________________________\n",
      "conv_pw_9 (Conv2D)           (None, 10, 10, 512)       262144    \n",
      "_________________________________________________________________\n",
      "conv_pw_9_bn (BatchNormaliza (None, 10, 10, 512)       2048      \n",
      "_________________________________________________________________\n",
      "conv_pw_9_relu (Activation)  (None, 10, 10, 512)       0         \n",
      "_________________________________________________________________\n",
      "conv_pad_10 (ZeroPadding2D)  (None, 12, 12, 512)       0         \n",
      "_________________________________________________________________\n",
      "conv_dw_10 (DepthwiseConv2D) (None, 10, 10, 512)       4608      \n",
      "_________________________________________________________________\n",
      "conv_dw_10_bn (BatchNormaliz (None, 10, 10, 512)       2048      \n",
      "_________________________________________________________________\n",
      "conv_dw_10_relu (Activation) (None, 10, 10, 512)       0         \n",
      "_________________________________________________________________\n",
      "conv_pw_10 (Conv2D)          (None, 10, 10, 512)       262144    \n",
      "_________________________________________________________________\n",
      "conv_pw_10_bn (BatchNormaliz (None, 10, 10, 512)       2048      \n",
      "_________________________________________________________________\n",
      "conv_pw_10_relu (Activation) (None, 10, 10, 512)       0         \n",
      "_________________________________________________________________\n",
      "conv_pad_11 (ZeroPadding2D)  (None, 12, 12, 512)       0         \n",
      "_________________________________________________________________\n",
      "conv_dw_11 (DepthwiseConv2D) (None, 10, 10, 512)       4608      \n",
      "_________________________________________________________________\n",
      "conv_dw_11_bn (BatchNormaliz (None, 10, 10, 512)       2048      \n",
      "_________________________________________________________________\n",
      "conv_dw_11_relu (Activation) (None, 10, 10, 512)       0         \n",
      "_________________________________________________________________\n",
      "conv_pw_11 (Conv2D)          (None, 10, 10, 512)       262144    \n",
      "_________________________________________________________________\n",
      "conv_pw_11_bn (BatchNormaliz (None, 10, 10, 512)       2048      \n",
      "_________________________________________________________________\n",
      "conv_pw_11_relu (Activation) (None, 10, 10, 512)       0         \n",
      "_________________________________________________________________\n",
      "conv_pad_12 (ZeroPadding2D)  (None, 12, 12, 512)       0         \n",
      "_________________________________________________________________\n",
      "conv_dw_12 (DepthwiseConv2D) (None, 5, 5, 512)         4608      \n",
      "_________________________________________________________________\n",
      "conv_dw_12_bn (BatchNormaliz (None, 5, 5, 512)         2048      \n",
      "_________________________________________________________________\n",
      "conv_dw_12_relu (Activation) (None, 5, 5, 512)         0         \n",
      "_________________________________________________________________\n",
      "conv_pw_12 (Conv2D)          (None, 5, 5, 1024)        524288    \n",
      "_________________________________________________________________\n",
      "conv_pw_12_bn (BatchNormaliz (None, 5, 5, 1024)        4096      \n",
      "_________________________________________________________________\n",
      "conv_pw_12_relu (Activation) (None, 5, 5, 1024)        0         \n",
      "_________________________________________________________________\n",
      "conv_pad_13 (ZeroPadding2D)  (None, 7, 7, 1024)        0         \n",
      "_________________________________________________________________\n",
      "conv_dw_13 (DepthwiseConv2D) (None, 5, 5, 1024)        9216      \n",
      "_________________________________________________________________\n",
      "conv_dw_13_bn (BatchNormaliz (None, 5, 5, 1024)        4096      \n",
      "_________________________________________________________________\n",
      "conv_dw_13_relu (Activation) (None, 5, 5, 1024)        0         \n",
      "_________________________________________________________________\n",
      "conv_pw_13 (Conv2D)          (None, 5, 5, 1024)        1048576   \n",
      "_________________________________________________________________\n",
      "conv_pw_13_bn (BatchNormaliz (None, 5, 5, 1024)        4096      \n",
      "_________________________________________________________________\n",
      "conv_pw_13_relu (Activation) (None, 5, 5, 1024)        0         \n",
      "_________________________________________________________________\n",
      "global_average_pooling2d_1 ( (None, 1024)              0         \n",
      "_________________________________________________________________\n",
      "dropout_2 (Dropout)          (None, 1024)              0         \n",
      "_________________________________________________________________\n",
      "dense_2 (Dense)              (None, 512)               524800    \n",
      "_________________________________________________________________\n",
      "lambda_2 (Lambda)            (None, 512)               0         \n",
      "=================================================================\n",
      "Total params: 3,753,664\n",
      "Trainable params: 524,800\n",
      "Non-trainable params: 3,228,864\n",
      "_________________________________________________________________\n",
      "None\n"
     ]
    }
   ],
   "source": [
    "def get_mobilenet(input_size = 160, alpha = 1 ):\n",
    "    \n",
    "    input_shape = (input_size, input_size, 3)\n",
    "    base_model = MobileNet(\n",
    "        include_top=False, weights='imagenet', \n",
    "        input_shape=input_shape, alpha=alpha\n",
    "    )\n",
    "    x = base_model.output\n",
    "    x = GlobalAveragePooling2D()(x)\n",
    "    x = Dropout(0.25)(x)\n",
    "    logits = Dense(512, kernel_regularizer = regularizers.l2(0.001))(x)\n",
    "    l2_norm = Lambda(lambda  x: K.l2_normalize(x,axis=1))(logits)\n",
    "    model = Model(base_model.input, l2_norm)\n",
    "    \n",
    "    for layer in model.layers[:-2]:\n",
    "        layer.trainable = False\n",
    "    return model\n",
    "\n",
    "model = get_mobilenet()\n",
    "print(model.summary())"
   ]
  },
  {
   "cell_type": "code",
   "execution_count": 9,
   "metadata": {},
   "outputs": [],
   "source": [
    "def embedding_loss(y_true, y_pred):    \n",
    "    \n",
    "    return K.mean(K.sum(K.square(y_true - y_pred), axis = 1))"
   ]
  },
  {
   "cell_type": "code",
   "execution_count": 13,
   "metadata": {},
   "outputs": [],
   "source": [
    "\n",
    "model.compile(\n",
    "    optimizer=optimizers.SGD(lr=1e-1, momentum=0.9, nesterov=True), #SGD has the best generalization capability\n",
    "#     optimizer = optimizers.RMSprop(lr=1e-5),\n",
    "    loss=embedding_loss, \n",
    "    metrics=[embedding_loss]\n",
    ")"
   ]
  },
  {
   "cell_type": "code",
   "execution_count": 14,
   "metadata": {},
   "outputs": [
    {
     "name": "stderr",
     "output_type": "stream",
     "text": [
      "/usr/local/lib/python3.6/dist-packages/keras/callbacks.py:999: UserWarning: `epsilon` argument is deprecated and will be removed, use `min_delta` instead.\n",
      "  warnings.warn('`epsilon` argument is deprecated and '\n"
     ]
    },
    {
     "name": "stdout",
     "output_type": "stream",
     "text": [
      "Epoch 1/30\n",
      "400/400 [==============================] - 142s 355ms/step - loss: 1.7501 - embedding_loss: 1.3906 - val_loss: 1.6086 - val_embedding_loss: 1.4504\n",
      "Epoch 2/30\n",
      "400/400 [==============================] - 41s 103ms/step - loss: 1.2474 - embedding_loss: 1.1472 - val_loss: 1.5115 - val_embedding_loss: 1.4396\n",
      "Epoch 3/30\n",
      "400/400 [==============================] - 42s 105ms/step - loss: 1.1884 - embedding_loss: 1.1200 - val_loss: 1.4192 - val_embedding_loss: 1.3518\n",
      "Epoch 4/30\n",
      "400/400 [==============================] - 42s 105ms/step - loss: 1.1874 - embedding_loss: 1.1198 - val_loss: 1.5164 - val_embedding_loss: 1.4487\n",
      "Epoch 5/30\n",
      "400/400 [==============================] - 42s 104ms/step - loss: 1.1846 - embedding_loss: 1.1168 - val_loss: 1.4135 - val_embedding_loss: 1.3458\n",
      "Epoch 6/30\n",
      "400/400 [==============================] - 42s 105ms/step - loss: 1.1437 - embedding_loss: 1.0791 - val_loss: 1.4392 - val_embedding_loss: 1.3788\n",
      "Epoch 7/30\n",
      "400/400 [==============================] - 42s 106ms/step - loss: 1.1144 - embedding_loss: 1.0578 - val_loss: 1.4369 - val_embedding_loss: 1.3839\n",
      "Epoch 8/30\n",
      "400/400 [==============================] - 42s 105ms/step - loss: 1.0989 - embedding_loss: 1.0464 - val_loss: 1.4384 - val_embedding_loss: 1.3863\n",
      "Epoch 9/30\n",
      "400/400 [==============================] - 42s 104ms/step - loss: 1.0968 - embedding_loss: 1.0451 - val_loss: 1.4314 - val_embedding_loss: 1.3801\n",
      "Epoch 10/30\n",
      "400/400 [==============================] - 42s 105ms/step - loss: 1.0929 - embedding_loss: 1.0417 - val_loss: 1.4336 - val_embedding_loss: 1.3824\n",
      "Epoch 11/30\n",
      "400/400 [==============================] - 42s 105ms/step - loss: 1.0966 - embedding_loss: 1.0455 - val_loss: 1.4336 - val_embedding_loss: 1.3825\n",
      "Epoch 12/30\n",
      "400/400 [==============================] - 42s 105ms/step - loss: 1.0922 - embedding_loss: 1.0411 - val_loss: 1.4329 - val_embedding_loss: 1.3818\n",
      "Epoch 13/30\n",
      "400/400 [==============================] - 42s 106ms/step - loss: 1.0930 - embedding_loss: 1.0419 - val_loss: 1.4336 - val_embedding_loss: 1.3825\n",
      "Epoch 14/30\n",
      "400/400 [==============================] - 42s 105ms/step - loss: 1.0929 - embedding_loss: 1.0418 - val_loss: 1.4349 - val_embedding_loss: 1.3838\n",
      "Epoch 15/30\n",
      "400/400 [==============================] - 42s 106ms/step - loss: 1.0941 - embedding_loss: 1.0430 - val_loss: 1.4337 - val_embedding_loss: 1.3826\n",
      "Epoch 16/30\n",
      "400/400 [==============================] - 42s 106ms/step - loss: 1.0943 - embedding_loss: 1.0432 - val_loss: 1.4338 - val_embedding_loss: 1.3827\n",
      "Epoch 17/30\n",
      "400/400 [==============================] - 42s 105ms/step - loss: 1.0950 - embedding_loss: 1.0439 - val_loss: 1.4326 - val_embedding_loss: 1.3815\n",
      "Epoch 18/30\n",
      "400/400 [==============================] - 42s 106ms/step - loss: 1.0939 - embedding_loss: 1.0428 - val_loss: 1.4363 - val_embedding_loss: 1.3852\n",
      "Epoch 19/30\n",
      "400/400 [==============================] - 42s 106ms/step - loss: 1.0928 - embedding_loss: 1.0417 - val_loss: 1.4338 - val_embedding_loss: 1.3827\n",
      "Epoch 20/30\n",
      "400/400 [==============================] - 42s 106ms/step - loss: 1.0938 - embedding_loss: 1.0427 - val_loss: 1.4346 - val_embedding_loss: 1.3835\n",
      "Epoch 21/30\n",
      "400/400 [==============================] - 42s 106ms/step - loss: 1.0928 - embedding_loss: 1.0418 - val_loss: 1.4325 - val_embedding_loss: 1.3814\n",
      "Epoch 22/30\n",
      "400/400 [==============================] - 42s 105ms/step - loss: 1.0940 - embedding_loss: 1.0429 - val_loss: 1.4326 - val_embedding_loss: 1.3815\n",
      "Epoch 23/30\n",
      "400/400 [==============================] - 43s 106ms/step - loss: 1.0959 - embedding_loss: 1.0448 - val_loss: 1.4333 - val_embedding_loss: 1.3822\n",
      "Epoch 24/30\n",
      "400/400 [==============================] - 42s 106ms/step - loss: 1.0957 - embedding_loss: 1.0446 - val_loss: 1.4337 - val_embedding_loss: 1.3826\n",
      "Epoch 25/30\n",
      "400/400 [==============================] - 42s 106ms/step - loss: 1.0926 - embedding_loss: 1.0415 - val_loss: 1.4320 - val_embedding_loss: 1.3809\n",
      "Epoch 26/30\n",
      "400/400 [==============================] - 42s 106ms/step - loss: 1.0931 - embedding_loss: 1.0421 - val_loss: 1.4317 - val_embedding_loss: 1.3806\n",
      "Epoch 27/30\n",
      "400/400 [==============================] - 42s 106ms/step - loss: 1.0945 - embedding_loss: 1.0434 - val_loss: 1.4319 - val_embedding_loss: 1.3808\n",
      "Epoch 28/30\n",
      "400/400 [==============================] - 42s 106ms/step - loss: 1.0955 - embedding_loss: 1.0444 - val_loss: 1.4328 - val_embedding_loss: 1.3818\n",
      "Epoch 29/30\n",
      "400/400 [==============================] - 43s 107ms/step - loss: 1.0922 - embedding_loss: 1.0411 - val_loss: 1.4356 - val_embedding_loss: 1.3845\n",
      "Epoch 30/30\n",
      "400/400 [==============================] - 42s 106ms/step - loss: 1.0933 - embedding_loss: 1.0422 - val_loss: 1.4338 - val_embedding_loss: 1.3827\n"
     ]
    },
    {
     "data": {
      "text/plain": [
       "<keras.callbacks.History at 0x7f4cf8e79be0>"
      ]
     },
     "execution_count": 14,
     "metadata": {},
     "output_type": "execute_result"
    }
   ],
   "source": [
    "model.fit_generator(\n",
    "    train_generator, \n",
    "    steps_per_epoch=400, epochs=30, verbose=1,\n",
    "    callbacks=[\n",
    "        ReduceLROnPlateau(monitor='val_embedding_loss', factor=0.1, patience=2, epsilon=0.007)\n",
    "    ],\n",
    "    validation_data=val_generator, validation_steps=80, workers=4\n",
    ")"
   ]
  },
  {
   "cell_type": "markdown",
   "metadata": {},
   "source": [
    "### Loss/epoch plots"
   ]
  },
  {
   "cell_type": "code",
   "execution_count": 15,
   "metadata": {},
   "outputs": [
    {
     "data": {
      "image/png": "[encoded data removed]",
      "text/plain": [
       "<matplotlib.figure.Figure at 0x7f4cf8c83208>"
      ]
     },
     "metadata": {},
     "output_type": "display_data"
    }
   ],
   "source": [
    "plt.plot(model.history.history['embedding_loss'], label='train');\n",
    "plt.plot(model.history.history['val_embedding_loss'], label='val');\n",
    "plt.legend();\n",
    "plt.xlabel('epoch');\n",
    "plt.ylabel('emb_loss');"
   ]
  },
  {
   "cell_type": "markdown",
   "metadata": {},
   "source": [
    "### Save your model to disk"
   ]
  },
  {
   "cell_type": "code",
   "execution_count": 57,
   "metadata": {},
   "outputs": [],
   "source": [
    "model.save(\"mobnet_distill.h5\")"
   ]
  }
 ],
 "metadata": {
  "kernelspec": {
   "display_name": "Python 3",
   "language": "python",
   "name": "python3"
  },
  "language_info": {
   "codemirror_mode": {
    "name": "ipython",
    "version": 3
   },
   "file_extension": ".py",
   "mimetype": "text/x-python",
   "name": "python",
   "nbconvert_exporter": "python",
   "pygments_lexer": "ipython3",
   "version": "3.6.5"
  }
 },
 "nbformat": 4,
 "nbformat_minor": 2
}
