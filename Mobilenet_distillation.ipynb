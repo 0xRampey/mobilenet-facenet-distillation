{
 "cells": [
  {
   "cell_type": "markdown",
   "metadata": {},
   "source": [
    "## First, I'll load the required data and setup keras settings"
   ]
  },
  {
   "cell_type": "code",
   "execution_count": 1,
   "metadata": {},
   "outputs": [],
   "source": [
    "%load_ext autoreload\n",
    "%autoreload 2"
   ]
  },
  {
   "cell_type": "code",
   "execution_count": 2,
   "metadata": {},
   "outputs": [
    {
     "name": "stderr",
     "output_type": "stream",
     "text": [
      "Using TensorFlow backend.\n"
     ]
    }
   ],
   "source": [
    "import numpy as np\n",
    "# use non standard flow_from_directory\n",
    "from utils.image_preprocessing_ver2 import ImageDataGenerator\n",
    "# it outputs y_batch that contains embeddings\n",
    "\n",
    "from utils.mobilenet import get_mobilenet\n",
    "import keras\n",
    "from keras.applications.mobilenet import MobileNet\n",
    "from keras.callbacks import ReduceLROnPlateau, EarlyStopping\n",
    "from keras.models import Model\n",
    "from keras import optimizers\n",
    "from keras import regularizers\n",
    "from keras import backend as K\n",
    "from keras.layers import Lambda, concatenate, Activation\n",
    "from keras.losses import categorical_crossentropy as logloss\n",
    "from keras.metrics import categorical_accuracy, top_k_categorical_accuracy\n",
    "import matplotlib.pyplot as plt\n",
    "from keras.layers import Activation, GlobalAveragePooling2D, Dropout, Dense, Input\n",
    "%matplotlib inline"
   ]
  },
  {
   "cell_type": "code",
   "execution_count": 3,
   "metadata": {},
   "outputs": [],
   "source": [
    "logit_dir = 'data/face_emb_logits/'"
   ]
  },
  {
   "cell_type": "code",
   "execution_count": 4,
   "metadata": {},
   "outputs": [],
   "source": [
    "train_logits = np.load(logit_dir + 'train_set.npy')[()]\n",
    "val_logits = np.load(logit_dir + 'test_set.npy')[()]\n"
   ]
  },
  {
   "cell_type": "code",
   "execution_count": 5,
   "metadata": {},
   "outputs": [],
   "source": [
    "data_dir = \"/home/prudhvi/Desktop/Datasets/lfw/lfw_mtcnn_160_split/\""
   ]
  },
  {
   "cell_type": "code",
   "execution_count": 6,
   "metadata": {},
   "outputs": [],
   "source": [
    "def fixed_image_stand(image):\n",
    "    return (tf.cast(image, tf.float32) - 127.5)/128"
   ]
  },
  {
   "cell_type": "code",
   "execution_count": 7,
   "metadata": {},
   "outputs": [
    {
     "name": "stdout",
     "output_type": "stream",
     "text": [
      "Found 12020 images belonging to 1 classes.\n",
      "Found 1213 images belonging to 1 classes.\n"
     ]
    }
   ],
   "source": [
    "train_generator = ImageDataGenerator(\n",
    "    data_format='channels_last',\n",
    "    preprocessing_function = fixed_image_stand\n",
    ")\n",
    "\n",
    "test_generator = ImageDataGenerator(\n",
    "    data_format='channels_last',\n",
    "    preprocessing_function = fixed_image_stand\n",
    ")\n",
    "\n",
    "# note: i'm also passing dicts of logits\n",
    "train_generator = train_generator.flow_from_directory(\n",
    "    data_dir + 'train/', train_logits,\n",
    "    target_size=(160, 160),\n",
    "    batch_size=64,\n",
    "    class_mode = 'embedding',\n",
    ")\n",
    "\n",
    "val_generator = test_generator.flow_from_directory(\n",
    "    data_dir + 'test', val_logits,\n",
    "    target_size=(160, 160),\n",
    "    batch_size=64,\n",
    "    class_mode = 'embedding',\n",
    ")"
   ]
  },
  {
   "cell_type": "markdown",
   "metadata": {},
   "source": [
    "## Create your Mobilenet model"
   ]
  },
  {
   "cell_type": "code",
   "execution_count": 25,
   "metadata": {},
   "outputs": [
    {
     "name": "stdout",
     "output_type": "stream",
     "text": [
      "_________________________________________________________________\n",
      "Layer (type)                 Output Shape              Param #   \n",
      "=================================================================\n",
      "input_6 (InputLayer)         (None, 160, 160, 3)       0         \n",
      "_________________________________________________________________\n",
      "conv1_pad (ZeroPadding2D)    (None, 162, 162, 3)       0         \n",
      "_________________________________________________________________\n",
      "conv1 (Conv2D)               (None, 80, 80, 32)        864       \n",
      "_________________________________________________________________\n",
      "conv1_bn (BatchNormalization (None, 80, 80, 32)        128       \n",
      "_________________________________________________________________\n",
      "conv1_relu (Activation)      (None, 80, 80, 32)        0         \n",
      "_________________________________________________________________\n",
      "conv_pad_1 (ZeroPadding2D)   (None, 82, 82, 32)        0         \n",
      "_________________________________________________________________\n",
      "conv_dw_1 (DepthwiseConv2D)  (None, 80, 80, 32)        288       \n",
      "_________________________________________________________________\n",
      "conv_dw_1_bn (BatchNormaliza (None, 80, 80, 32)        128       \n",
      "_________________________________________________________________\n",
      "conv_dw_1_relu (Activation)  (None, 80, 80, 32)        0         \n",
      "_________________________________________________________________\n",
      "conv_pw_1 (Conv2D)           (None, 80, 80, 64)        2048      \n",
      "_________________________________________________________________\n",
      "conv_pw_1_bn (BatchNormaliza (None, 80, 80, 64)        256       \n",
      "_________________________________________________________________\n",
      "conv_pw_1_relu (Activation)  (None, 80, 80, 64)        0         \n",
      "_________________________________________________________________\n",
      "conv_pad_2 (ZeroPadding2D)   (None, 82, 82, 64)        0         \n",
      "_________________________________________________________________\n",
      "conv_dw_2 (DepthwiseConv2D)  (None, 40, 40, 64)        576       \n",
      "_________________________________________________________________\n",
      "conv_dw_2_bn (BatchNormaliza (None, 40, 40, 64)        256       \n",
      "_________________________________________________________________\n",
      "conv_dw_2_relu (Activation)  (None, 40, 40, 64)        0         \n",
      "_________________________________________________________________\n",
      "conv_pw_2 (Conv2D)           (None, 40, 40, 128)       8192      \n",
      "_________________________________________________________________\n",
      "conv_pw_2_bn (BatchNormaliza (None, 40, 40, 128)       512       \n",
      "_________________________________________________________________\n",
      "conv_pw_2_relu (Activation)  (None, 40, 40, 128)       0         \n",
      "_________________________________________________________________\n",
      "conv_pad_3 (ZeroPadding2D)   (None, 42, 42, 128)       0         \n",
      "_________________________________________________________________\n",
      "conv_dw_3 (DepthwiseConv2D)  (None, 40, 40, 128)       1152      \n",
      "_________________________________________________________________\n",
      "conv_dw_3_bn (BatchNormaliza (None, 40, 40, 128)       512       \n",
      "_________________________________________________________________\n",
      "conv_dw_3_relu (Activation)  (None, 40, 40, 128)       0         \n",
      "_________________________________________________________________\n",
      "conv_pw_3 (Conv2D)           (None, 40, 40, 128)       16384     \n",
      "_________________________________________________________________\n",
      "conv_pw_3_bn (BatchNormaliza (None, 40, 40, 128)       512       \n",
      "_________________________________________________________________\n",
      "conv_pw_3_relu (Activation)  (None, 40, 40, 128)       0         \n",
      "_________________________________________________________________\n",
      "conv_pad_4 (ZeroPadding2D)   (None, 42, 42, 128)       0         \n",
      "_________________________________________________________________\n",
      "conv_dw_4 (DepthwiseConv2D)  (None, 20, 20, 128)       1152      \n",
      "_________________________________________________________________\n",
      "conv_dw_4_bn (BatchNormaliza (None, 20, 20, 128)       512       \n",
      "_________________________________________________________________\n",
      "conv_dw_4_relu (Activation)  (None, 20, 20, 128)       0         \n",
      "_________________________________________________________________\n",
      "conv_pw_4 (Conv2D)           (None, 20, 20, 256)       32768     \n",
      "_________________________________________________________________\n",
      "conv_pw_4_bn (BatchNormaliza (None, 20, 20, 256)       1024      \n",
      "_________________________________________________________________\n",
      "conv_pw_4_relu (Activation)  (None, 20, 20, 256)       0         \n",
      "_________________________________________________________________\n",
      "conv_pad_5 (ZeroPadding2D)   (None, 22, 22, 256)       0         \n",
      "_________________________________________________________________\n",
      "conv_dw_5 (DepthwiseConv2D)  (None, 20, 20, 256)       2304      \n",
      "_________________________________________________________________\n",
      "conv_dw_5_bn (BatchNormaliza (None, 20, 20, 256)       1024      \n",
      "_________________________________________________________________\n",
      "conv_dw_5_relu (Activation)  (None, 20, 20, 256)       0         \n",
      "_________________________________________________________________\n",
      "conv_pw_5 (Conv2D)           (None, 20, 20, 256)       65536     \n",
      "_________________________________________________________________\n",
      "conv_pw_5_bn (BatchNormaliza (None, 20, 20, 256)       1024      \n",
      "_________________________________________________________________\n",
      "conv_pw_5_relu (Activation)  (None, 20, 20, 256)       0         \n",
      "_________________________________________________________________\n",
      "conv_pad_6 (ZeroPadding2D)   (None, 22, 22, 256)       0         \n",
      "_________________________________________________________________\n",
      "conv_dw_6 (DepthwiseConv2D)  (None, 10, 10, 256)       2304      \n",
      "_________________________________________________________________\n",
      "conv_dw_6_bn (BatchNormaliza (None, 10, 10, 256)       1024      \n",
      "_________________________________________________________________\n",
      "conv_dw_6_relu (Activation)  (None, 10, 10, 256)       0         \n",
      "_________________________________________________________________\n",
      "conv_pw_6 (Conv2D)           (None, 10, 10, 512)       131072    \n",
      "_________________________________________________________________\n",
      "conv_pw_6_bn (BatchNormaliza (None, 10, 10, 512)       2048      \n",
      "_________________________________________________________________\n",
      "conv_pw_6_relu (Activation)  (None, 10, 10, 512)       0         \n",
      "_________________________________________________________________\n",
      "conv_pad_7 (ZeroPadding2D)   (None, 12, 12, 512)       0         \n",
      "_________________________________________________________________\n",
      "conv_dw_7 (DepthwiseConv2D)  (None, 10, 10, 512)       4608      \n",
      "_________________________________________________________________\n",
      "conv_dw_7_bn (BatchNormaliza (None, 10, 10, 512)       2048      \n",
      "_________________________________________________________________\n",
      "conv_dw_7_relu (Activation)  (None, 10, 10, 512)       0         \n",
      "_________________________________________________________________\n",
      "conv_pw_7 (Conv2D)           (None, 10, 10, 512)       262144    \n",
      "_________________________________________________________________\n",
      "conv_pw_7_bn (BatchNormaliza (None, 10, 10, 512)       2048      \n",
      "_________________________________________________________________\n",
      "conv_pw_7_relu (Activation)  (None, 10, 10, 512)       0         \n",
      "_________________________________________________________________\n",
      "conv_pad_8 (ZeroPadding2D)   (None, 12, 12, 512)       0         \n",
      "_________________________________________________________________\n",
      "conv_dw_8 (DepthwiseConv2D)  (None, 10, 10, 512)       4608      \n",
      "_________________________________________________________________\n",
      "conv_dw_8_bn (BatchNormaliza (None, 10, 10, 512)       2048      \n",
      "_________________________________________________________________\n",
      "conv_dw_8_relu (Activation)  (None, 10, 10, 512)       0         \n",
      "_________________________________________________________________\n",
      "conv_pw_8 (Conv2D)           (None, 10, 10, 512)       262144    \n",
      "_________________________________________________________________\n",
      "conv_pw_8_bn (BatchNormaliza (None, 10, 10, 512)       2048      \n",
      "_________________________________________________________________\n",
      "conv_pw_8_relu (Activation)  (None, 10, 10, 512)       0         \n",
      "_________________________________________________________________\n",
      "conv_pad_9 (ZeroPadding2D)   (None, 12, 12, 512)       0         \n",
      "_________________________________________________________________\n",
      "conv_dw_9 (DepthwiseConv2D)  (None, 10, 10, 512)       4608      \n",
      "_________________________________________________________________\n",
      "conv_dw_9_bn (BatchNormaliza (None, 10, 10, 512)       2048      \n",
      "_________________________________________________________________\n",
      "conv_dw_9_relu (Activation)  (None, 10, 10, 512)       0         \n",
      "_________________________________________________________________\n",
      "conv_pw_9 (Conv2D)           (None, 10, 10, 512)       262144    \n",
      "_________________________________________________________________\n",
      "conv_pw_9_bn (BatchNormaliza (None, 10, 10, 512)       2048      \n",
      "_________________________________________________________________\n",
      "conv_pw_9_relu (Activation)  (None, 10, 10, 512)       0         \n",
      "_________________________________________________________________\n",
      "conv_pad_10 (ZeroPadding2D)  (None, 12, 12, 512)       0         \n",
      "_________________________________________________________________\n",
      "conv_dw_10 (DepthwiseConv2D) (None, 10, 10, 512)       4608      \n",
      "_________________________________________________________________\n",
      "conv_dw_10_bn (BatchNormaliz (None, 10, 10, 512)       2048      \n",
      "_________________________________________________________________\n",
      "conv_dw_10_relu (Activation) (None, 10, 10, 512)       0         \n",
      "_________________________________________________________________\n",
      "conv_pw_10 (Conv2D)          (None, 10, 10, 512)       262144    \n",
      "_________________________________________________________________\n",
      "conv_pw_10_bn (BatchNormaliz (None, 10, 10, 512)       2048      \n",
      "_________________________________________________________________\n",
      "conv_pw_10_relu (Activation) (None, 10, 10, 512)       0         \n",
      "_________________________________________________________________\n",
      "conv_pad_11 (ZeroPadding2D)  (None, 12, 12, 512)       0         \n",
      "_________________________________________________________________\n",
      "conv_dw_11 (DepthwiseConv2D) (None, 10, 10, 512)       4608      \n",
      "_________________________________________________________________\n",
      "conv_dw_11_bn (BatchNormaliz (None, 10, 10, 512)       2048      \n",
      "_________________________________________________________________\n",
      "conv_dw_11_relu (Activation) (None, 10, 10, 512)       0         \n",
      "_________________________________________________________________\n",
      "conv_pw_11 (Conv2D)          (None, 10, 10, 512)       262144    \n",
      "_________________________________________________________________\n",
      "conv_pw_11_bn (BatchNormaliz (None, 10, 10, 512)       2048      \n",
      "_________________________________________________________________\n",
      "conv_pw_11_relu (Activation) (None, 10, 10, 512)       0         \n",
      "_________________________________________________________________\n",
      "conv_pad_12 (ZeroPadding2D)  (None, 12, 12, 512)       0         \n",
      "_________________________________________________________________\n",
      "conv_dw_12 (DepthwiseConv2D) (None, 5, 5, 512)         4608      \n",
      "_________________________________________________________________\n",
      "conv_dw_12_bn (BatchNormaliz (None, 5, 5, 512)         2048      \n",
      "_________________________________________________________________\n",
      "conv_dw_12_relu (Activation) (None, 5, 5, 512)         0         \n",
      "_________________________________________________________________\n",
      "conv_pw_12 (Conv2D)          (None, 5, 5, 1024)        524288    \n",
      "_________________________________________________________________\n",
      "conv_pw_12_bn (BatchNormaliz (None, 5, 5, 1024)        4096      \n",
      "_________________________________________________________________\n",
      "conv_pw_12_relu (Activation) (None, 5, 5, 1024)        0         \n",
      "_________________________________________________________________\n",
      "conv_pad_13 (ZeroPadding2D)  (None, 7, 7, 1024)        0         \n",
      "_________________________________________________________________\n",
      "conv_dw_13 (DepthwiseConv2D) (None, 5, 5, 1024)        9216      \n",
      "_________________________________________________________________\n",
      "conv_dw_13_bn (BatchNormaliz (None, 5, 5, 1024)        4096      \n",
      "_________________________________________________________________\n",
      "conv_dw_13_relu (Activation) (None, 5, 5, 1024)        0         \n",
      "_________________________________________________________________\n",
      "conv_pw_13 (Conv2D)          (None, 5, 5, 1024)        1048576   \n",
      "_________________________________________________________________\n",
      "conv_pw_13_bn (BatchNormaliz (None, 5, 5, 1024)        4096      \n",
      "_________________________________________________________________\n",
      "conv_pw_13_relu (Activation) (None, 5, 5, 1024)        0         \n",
      "_________________________________________________________________\n",
      "global_average_pooling2d_6 ( (None, 1024)              0         \n",
      "_________________________________________________________________\n",
      "dense_6 (Dense)              (None, 512)               524800    \n",
      "_________________________________________________________________\n",
      "lambda_6 (Lambda)            (None, 512)               0         \n",
      "=================================================================\n",
      "Total params: 3,753,664\n",
      "Trainable params: 2,113,024\n",
      "Non-trainable params: 1,640,640\n",
      "_________________________________________________________________\n",
      "None\n"
     ]
    }
   ],
   "source": [
    "def get_mobilenet(input_size = 160, alpha = 1 ):\n",
    "    \n",
    "    input_shape = (input_size, input_size, 3)\n",
    "    base_model = MobileNet(\n",
    "        include_top=False, weights='imagenet', \n",
    "        input_shape=input_shape, alpha=alpha\n",
    "    )\n",
    "    x = base_model.output\n",
    "    x = GlobalAveragePooling2D()(x)\n",
    "#     x = Dropout(0.25)(x)\n",
    "#     logits = Dense(512, kernel_regularizer = regularizers.l2(0.001))(x)\n",
    "    logits = Dense(512)(x)\n",
    "    l2_norm = Lambda(lambda  x: K.l2_normalize(x,axis=1))(logits)\n",
    "    model = Model(base_model.input, l2_norm)\n",
    "    \n",
    "    for layer in model.layers[:-13]:\n",
    "        layer.trainable = False\n",
    "    return model\n",
    "\n",
    "model = get_mobilenet()\n",
    "print(model.summary())"
   ]
  },
  {
   "cell_type": "code",
   "execution_count": 28,
   "metadata": {},
   "outputs": [],
   "source": [
    "def embedding_loss(y_true, y_pred):    \n",
    "    \n",
    "    return K.mean(K.sum(K.square(y_true - y_pred), axis = 1))"
   ]
  },
  {
   "cell_type": "code",
   "execution_count": 29,
   "metadata": {},
   "outputs": [],
   "source": [
    "\n",
    "model.compile(\n",
    "    optimizer=optimizers.SGD(lr=1e-1, momentum=0.9, nesterov=True), #SGD has the best generalization capability\n",
    "#     optimizer = optimizers.RMSprop(lr=1e-5),\n",
    "    loss=embedding_loss, \n",
    "    metrics=[embedding_loss]\n",
    ")"
   ]
  },
  {
   "cell_type": "code",
   "execution_count": 30,
   "metadata": {
    "scrolled": true
   },
   "outputs": [
    {
     "name": "stderr",
     "output_type": "stream",
     "text": [
      "/usr/local/lib/python3.6/dist-packages/keras/callbacks.py:999: UserWarning: `epsilon` argument is deprecated and will be removed, use `min_delta` instead.\n",
      "  warnings.warn('`epsilon` argument is deprecated and '\n"
     ]
    },
    {
     "name": "stdout",
     "output_type": "stream",
     "text": [
      "Epoch 1/30\n",
      "400/400 [==============================] - 7644s 19s/step - loss: 1.1787 - embedding_loss: 1.1787 - val_loss: 1.8890 - val_embedding_loss: 1.8890\n",
      "Epoch 2/30\n",
      " 55/400 [===>..........................] - ETA: 14:43 - loss: 0.9492 - embedding_loss: 0.9492"
     ]
    },
    {
     "name": "stderr",
     "output_type": "stream",
     "text": [
      "/usr/local/lib/python3.6/dist-packages/keras/callbacks.py:120: UserWarning: Method on_batch_end() is slow compared to the batch update (0.702481). Check your callbacks.\n",
      "  % delta_t_median)\n"
     ]
    },
    {
     "name": "stdout",
     "output_type": "stream",
     "text": [
      " 57/400 [===>..........................] - ETA: 14:25 - loss: 0.9473 - embedding_loss: 0.9473"
     ]
    },
    {
     "name": "stderr",
     "output_type": "stream",
     "text": [
      "/usr/local/lib/python3.6/dist-packages/keras/callbacks.py:120: UserWarning: Method on_batch_end() is slow compared to the batch update (0.438212). Check your callbacks.\n",
      "  % delta_t_median)\n"
     ]
    },
    {
     "name": "stdout",
     "output_type": "stream",
     "text": [
      "400/400 [==============================] - 809s 2s/step - loss: 0.8569 - embedding_loss: 0.8569 - val_loss: 1.7901 - val_embedding_loss: 1.7901\n",
      "Epoch 3/30\n",
      "400/400 [==============================] - 170s 424ms/step - loss: 0.7082 - embedding_loss: 0.7082 - val_loss: 1.9012 - val_embedding_loss: 1.9012\n",
      "Epoch 4/30\n",
      "400/400 [==============================] - 135s 338ms/step - loss: 0.5910 - embedding_loss: 0.5910 - val_loss: 1.8225 - val_embedding_loss: 1.8225\n",
      "Epoch 5/30\n",
      "400/400 [==============================] - 112s 279ms/step - loss: 0.4814 - embedding_loss: 0.4814 - val_loss: 1.8605 - val_embedding_loss: 1.8605\n",
      "Epoch 6/30\n",
      "400/400 [==============================] - 189s 473ms/step - loss: 0.4532 - embedding_loss: 0.4532 - val_loss: 1.8599 - val_embedding_loss: 1.8599\n",
      "Epoch 7/30\n",
      "400/400 [==============================] - 159s 397ms/step - loss: 0.4382 - embedding_loss: 0.4382 - val_loss: 1.8471 - val_embedding_loss: 1.8471\n",
      "Epoch 8/30\n",
      "400/400 [==============================] - 183s 459ms/step - loss: 0.4344 - embedding_loss: 0.4344 - val_loss: 1.8538 - val_embedding_loss: 1.8538\n",
      "Epoch 9/30\n",
      "400/400 [==============================] - 275s 687ms/step - loss: 0.4338 - embedding_loss: 0.4338 - val_loss: 1.8525 - val_embedding_loss: 1.8525\n",
      "Epoch 10/30\n",
      "400/400 [==============================] - 254s 634ms/step - loss: 0.4330 - embedding_loss: 0.4330 - val_loss: 1.8514 - val_embedding_loss: 1.8514\n",
      "Epoch 11/30\n",
      "400/400 [==============================] - 154s 385ms/step - loss: 0.4331 - embedding_loss: 0.4331 - val_loss: 1.8534 - val_embedding_loss: 1.8534\n",
      "Epoch 12/30\n",
      "400/400 [==============================] - 185s 462ms/step - loss: 0.4325 - embedding_loss: 0.4325 - val_loss: 1.8552 - val_embedding_loss: 1.8552\n",
      "Epoch 13/30\n",
      "400/400 [==============================] - 145s 363ms/step - loss: 0.4331 - embedding_loss: 0.4331 - val_loss: 1.8545 - val_embedding_loss: 1.8545\n",
      "Epoch 14/30\n",
      "400/400 [==============================] - 146s 366ms/step - loss: 0.4321 - embedding_loss: 0.4321 - val_loss: 1.8504 - val_embedding_loss: 1.8504\n",
      "Epoch 15/30\n",
      "400/400 [==============================] - 153s 384ms/step - loss: 0.4322 - embedding_loss: 0.4322 - val_loss: 1.8515 - val_embedding_loss: 1.8515\n",
      "Epoch 16/30\n",
      "400/400 [==============================] - 144s 360ms/step - loss: 0.4327 - embedding_loss: 0.4327 - val_loss: 1.8526 - val_embedding_loss: 1.8526\n",
      "Epoch 17/30\n",
      "400/400 [==============================] - 176s 440ms/step - loss: 0.4329 - embedding_loss: 0.4329 - val_loss: 1.8542 - val_embedding_loss: 1.8542\n",
      "Epoch 18/30\n",
      "400/400 [==============================] - 210s 525ms/step - loss: 0.4329 - embedding_loss: 0.4329 - val_loss: 1.8519 - val_embedding_loss: 1.8519\n",
      "Epoch 19/30\n",
      "400/400 [==============================] - 172s 429ms/step - loss: 0.4325 - embedding_loss: 0.4325 - val_loss: 1.8537 - val_embedding_loss: 1.8537\n",
      "Epoch 20/30\n",
      "400/400 [==============================] - 167s 418ms/step - loss: 0.4321 - embedding_loss: 0.4321 - val_loss: 1.8536 - val_embedding_loss: 1.8536\n",
      "Epoch 21/30\n",
      "400/400 [==============================] - 208s 519ms/step - loss: 0.4321 - embedding_loss: 0.4321 - val_loss: 1.8534 - val_embedding_loss: 1.8534\n",
      "Epoch 22/30\n",
      "400/400 [==============================] - 188s 471ms/step - loss: 0.4330 - embedding_loss: 0.4330 - val_loss: 1.8553 - val_embedding_loss: 1.8553\n",
      "Epoch 23/30\n",
      "400/400 [==============================] - 182s 455ms/step - loss: 0.4329 - embedding_loss: 0.4329 - val_loss: 1.8520 - val_embedding_loss: 1.8520\n",
      "Epoch 24/30\n",
      "400/400 [==============================] - 190s 475ms/step - loss: 0.4321 - embedding_loss: 0.4321 - val_loss: 1.8519 - val_embedding_loss: 1.8519\n",
      "Epoch 25/30\n",
      "400/400 [==============================] - 190s 476ms/step - loss: 0.4329 - embedding_loss: 0.4329 - val_loss: 1.8511 - val_embedding_loss: 1.8511\n",
      "Epoch 26/30\n",
      "400/400 [==============================] - 244s 609ms/step - loss: 0.4326 - embedding_loss: 0.4326 - val_loss: 1.8509 - val_embedding_loss: 1.8509\n",
      "Epoch 27/30\n",
      "400/400 [==============================] - 222s 555ms/step - loss: 0.4321 - embedding_loss: 0.4321 - val_loss: 1.8541 - val_embedding_loss: 1.8541\n",
      "Epoch 28/30\n",
      "400/400 [==============================] - 153s 383ms/step - loss: 0.4326 - embedding_loss: 0.4326 - val_loss: 1.8514 - val_embedding_loss: 1.8514\n",
      "Epoch 29/30\n",
      "400/400 [==============================] - 160s 399ms/step - loss: 0.4328 - embedding_loss: 0.4328 - val_loss: 1.8523 - val_embedding_loss: 1.8523\n",
      "Epoch 30/30\n",
      "400/400 [==============================] - 183s 456ms/step - loss: 0.4332 - embedding_loss: 0.4332 - val_loss: 1.8507 - val_embedding_loss: 1.8507\n"
     ]
    },
    {
     "data": {
      "text/plain": [
       "<keras.callbacks.History at 0x7fdd3096f0b8>"
      ]
     },
     "execution_count": 30,
     "metadata": {},
     "output_type": "execute_result"
    }
   ],
   "source": [
    "model.fit_generator(\n",
    "    train_generator, \n",
    "    steps_per_epoch=400, epochs=30, verbose=1,\n",
    "    callbacks=[\n",
    "        ReduceLROnPlateau(monitor='val_embedding_loss', factor=0.1, patience=2, epsilon=0.007)\n",
    "    ],\n",
    "    validation_data=val_generator, validation_steps=80, workers=4\n",
    ")"
   ]
  },
  {
   "cell_type": "markdown",
   "metadata": {},
   "source": [
    "### Loss/epoch plots"
   ]
  },
  {
   "cell_type": "code",
   "execution_count": 31,
   "metadata": {},
   "outputs": [
    {
     "data": {
      "image/png": "[encoded data removed]",
      "text/plain": [
       "<matplotlib.figure.Figure at 0x7fdd305196d8>"
      ]
     },
     "metadata": {},
     "output_type": "display_data"
    }
   ],
   "source": [
    "\n",
    "\n",
    "\n",
    "plt.plot(model.history.history['embedding_loss'], label='train');\n",
    "plt.plot(model.history.history['val_embedding_loss'], label='val');\n",
    "plt.legend();\n",
    "plt.xlabel('epoch');\n",
    "plt.ylabel('emb_loss');"
   ]
  },
  {
   "cell_type": "markdown",
   "metadata": {},
   "source": [
    "### Export your model to disk"
   ]
  },
  {
   "cell_type": "code",
   "execution_count": 47,
   "metadata": {},
   "outputs": [],
   "source": [
    "from keras import backend as K\n",
    "\n",
    "K.set_learning_phase(0)  # all new operations will be in test mode from now on\n",
    "\n",
    "# serialize the model and get its weights, for quick re-building\n",
    "json_config = model.to_json()\n",
    "weights = model.get_weights()\n",
    "\n",
    "# re-build a model where the learning phase is now hard-coded to 0\n",
    "from keras.models import model_from_json\n",
    "new_model = model_from_json(json_config, {'relu6': keras.applications.mobilenet.mobilenet.relu6})\n",
    "new_model.set_weights(weights)"
   ]
  },
  {
   "cell_type": "code",
   "execution_count": 55,
   "metadata": {},
   "outputs": [
    {
     "name": "stdout",
     "output_type": "stream",
     "text": [
      "INFO:tensorflow:Froze 137 variables.\n",
      "Converted 137 variables to const ops.\n",
      "saved the freezed graph (ready for inference)\n"
     ]
    }
   ],
   "source": [
    "from tensorflow.python.framework import graph_util\n",
    "from tensorflow.python.framework import graph_io\n",
    "\n",
    "sess = K.get_session()\n",
    "constant_graph = graph_util.convert_variables_to_constants(sess, sess.graph.as_graph_def(), [new_model.output.op.name])\n",
    "graph_io.write_graph(constant_graph, './', 'train.pb', as_text=False)\n",
    "print('saved the freezed graph (ready for inference)')"
   ]
  },
  {
   "cell_type": "code",
   "execution_count": null,
   "metadata": {},
   "outputs": [],
   "source": []
  }
 ],
 "metadata": {
  "kernelspec": {
   "display_name": "Python 3",
   "language": "python",
   "name": "python3"
  },
  "language_info": {
   "codemirror_mode": {
    "name": "ipython",
    "version": 3
   },
   "file_extension": ".py",
   "mimetype": "text/x-python",
   "name": "python",
   "nbconvert_exporter": "python",
   "pygments_lexer": "ipython3",
   "version": "3.6.5"
  }
 },
 "nbformat": 4,
 "nbformat_minor": 2
}
