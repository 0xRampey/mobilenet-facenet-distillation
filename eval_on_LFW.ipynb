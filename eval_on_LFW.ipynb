{
 "cells": [
  {
   "cell_type": "code",
   "execution_count": 15,
   "metadata": {},
   "outputs": [],
   "source": [
    "import ipynb.fs #Boilerplate for import ipynb.fs #Boilerplate for ipynb botebooks as modules\n",
    "\n",
    "from utils import facenet\n",
    "from utils import lfw\n",
    "from .defs.Facenet_impl import get_face_embeddings\n",
    "import os, sys\n",
    "import numpy as np\n",
    "from sklearn import metrics\n",
    "from scipy.optimize import brentq\n",
    "from scipy import interpolate"
   ]
  },
  {
   "cell_type": "code",
   "execution_count": 9,
   "metadata": {},
   "outputs": [],
   "source": [
    "# Embeddings are calculated using the pairs from http://vis-www.cs.umass.edu/lfw/pairs.txt\n",
    "pairs_path = '/home/prudhvi/Desktop/Distillation/mobilenet-facenet-distillation/data/pairs.txt'\n",
    "pairs = lfw.read_pairs(pairs_path)"
   ]
  },
  {
   "cell_type": "code",
   "execution_count": 10,
   "metadata": {},
   "outputs": [],
   "source": [
    "dataset_path = \"~/Desktop/Datasets/lfw/lfw_mtcnnpy_160\"\n",
    "# Get the paths for the corresponding images\n",
    "paths, actual_issame = lfw.get_paths(os.path.expanduser(dataset_path), pairs)"
   ]
  },
  {
   "cell_type": "code",
   "execution_count": 11,
   "metadata": {},
   "outputs": [
    {
     "name": "stdout",
     "output_type": "stream",
     "text": [
      "Loading feature extraction model\n",
      "Model directory: /home/prudhvi/Desktop/Models/tf/Facenet/20180402-114759\n",
      "Metagraph file: model-20180402-114759.meta\n",
      "Checkpoint file: model-20180402-114759.ckpt-275\n",
      "INFO:tensorflow:Restoring parameters from /home/prudhvi/Desktop/Models/tf/Facenet/20180402-114759/model-20180402-114759.ckpt-275\n",
      "embedding size 512\n",
      "Calculating features for images\n",
      "Number of epochs 188\n"
     ]
    }
   ],
   "source": [
    "embeddings = get_face_embeddings(paths, mode = \"paths\")"
   ]
  },
  {
   "cell_type": "code",
   "execution_count": 16,
   "metadata": {},
   "outputs": [
    {
     "name": "stdout",
     "output_type": "stream",
     "text": [
      "Accuracy: 0.98833+-0.00441\n",
      "Validation rate: 0.89667+-0.02494 @ FAR=0.00067\n",
      "Area Under Curve (AUC): 0.999\n",
      "Equal Error Rate (EER): 0.012\n"
     ]
    }
   ],
   "source": [
    "tpr, fpr, accuracy, val, val_std, far = lfw.evaluate(embeddings, actual_issame, nrof_folds=10, distance_metric=1, subtract_mean=1)\n",
    "    \n",
    "print('Accuracy: %2.5f+-%2.5f' % (np.mean(accuracy), np.std(accuracy)))\n",
    "print('Validation rate: %2.5f+-%2.5f @ FAR=%2.5f' % (val, val_std, far))\n",
    "    \n",
    "auc = metrics.auc(fpr, tpr)\n",
    "print('Area Under Curve (AUC): %1.3f' % auc)\n",
    "eer = brentq(lambda x: 1. - x - interpolate.interp1d(fpr, tpr)(x), 0., 1.)\n",
    "print('Equal Error Rate (EER): %1.3f' % eer)"
   ]
  },
  {
   "cell_type": "code",
   "execution_count": null,
   "metadata": {},
   "outputs": [],
   "source": []
  }
 ],
 "metadata": {
  "kernelspec": {
   "display_name": "Python 3",
   "language": "python",
   "name": "python3"
  },
  "language_info": {
   "codemirror_mode": {
    "name": "ipython",
    "version": 3
   },
   "file_extension": ".py",
   "mimetype": "text/x-python",
   "name": "python",
   "nbconvert_exporter": "python",
   "pygments_lexer": "ipython3",
   "version": "3.6.5"
  }
 },
 "nbformat": 4,
 "nbformat_minor": 2
}
